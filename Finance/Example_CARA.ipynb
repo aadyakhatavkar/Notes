{
 "cells": [
  {
   "cell_type": "markdown",
   "id": "6eba6699",
   "metadata": {},
   "source": [
    "# Why risk aversion matters\n",
    "\n",
    "Suppose an investor wants to maximize its portfolio return, considering two assets:\n",
    "- Risk-free asset with fixed return $r_f$\n",
    "- Bitcoin with return $r_{BTC}$ and volatility $\\sigma_b$\n",
    "\n",
    "The objective function is : \n",
    "$$\n",
    "\\max_{w1, w2} \\; w_{BTC} r_{BTC} + w_{rf} r_f\n",
    "$$\n",
    "\n",
    "Further assume $r_f=1\\%$"
   ]
  },
  {
   "cell_type": "markdown",
   "id": "6b5f7d52",
   "metadata": {},
   "source": [
    "### Import packages"
   ]
  },
  {
   "cell_type": "code",
   "execution_count": 59,
   "id": "73af754a",
   "metadata": {},
   "outputs": [],
   "source": [
    "import yfinance as yf\n",
    "import pandas as pd\n",
    "import numpy as np\n",
    "import matplotlib.pyplot as plt"
   ]
  },
  {
   "cell_type": "markdown",
   "id": "2603c5b8",
   "metadata": {},
   "source": [
    "### Get data\n",
    "\n",
    "We can type on Google \"Bitcoin price\", look around, find the data, download it and load from csv file $\\rightarrow$ very inefficient!\n",
    "\n",
    "Or, we use yfinance library on Python $\\rightarrow$ faster and replicable!"
   ]
  },
  {
   "cell_type": "code",
   "execution_count": 6,
   "id": "1a1a6fc3",
   "metadata": {},
   "outputs": [
    {
     "name": "stdout",
     "output_type": "stream",
     "text": [
      "Ticker           BTC-USD\n",
      "Date                    \n",
      "2020-10-15  11495.349609\n",
      "2020-10-16  11322.123047\n",
      "2020-10-17  11358.101562\n",
      "2020-10-18  11483.359375\n",
      "2020-10-19  11742.037109\n"
     ]
    }
   ],
   "source": [
    "\n",
    "# Try download with period (most reliable)\n",
    "btc = yf.download(\"BTC-USD\", period=\"5y\", interval=\"1d\", auto_adjust=True,\n",
    "                   progress=False, threads=False)\n",
    "\n",
    "\n",
    "btc_close = btc[\"Close\"]\n",
    "print(aapl_close.head())"
   ]
  },
  {
   "cell_type": "markdown",
   "id": "7e11a530",
   "metadata": {},
   "source": [
    "# Compute BTC returns\n",
    "\n",
    "In general, the return of an asset is $R_t = \\log(P_t) - \\log(P_{t-1})$"
   ]
  },
  {
   "cell_type": "code",
   "execution_count": 67,
   "id": "6919bc28",
   "metadata": {},
   "outputs": [
    {
     "name": "stdout",
     "output_type": "stream",
     "text": [
      "        BTC    Rf\n",
      "Mean  0.576  0.01\n"
     ]
    }
   ],
   "source": [
    "btc_ret = np.log(btc_close).diff().dropna()\n",
    "rf = 0.01\n",
    "annualized_return_log = np.exp(btc_ret.sum() * (365 / len(btc_ret))) - 1\n",
    "\n",
    "\n",
    "df = pd.DataFrame(index=['Mean'], columns=[\"BTC\", \"Rf\"])\n",
    "df.iloc[0, :] = np.asarray([np.round(annualized_return_log.mean(),3), rf])\n",
    "\n",
    "print(df)"
   ]
  },
  {
   "cell_type": "markdown",
   "id": "38f672a7",
   "metadata": {},
   "source": [
    "# Optimal portfolio\n",
    "\n",
    "Based on the maximization problem above, an investor should set $w_{BTC}=1$ $\\rightarrow$ fully invested in Bitcoin\n",
    "\n",
    "Is this what we observe in reality? No!\n",
    "\n",
    "Investors care about risk as well"
   ]
  },
  {
   "cell_type": "code",
   "execution_count": 69,
   "id": "d2329fc9",
   "metadata": {},
   "outputs": [
    {
     "name": "stdout",
     "output_type": "stream",
     "text": [
      "                         BTC   Rf\n",
      "Mean (%)                57.6  1.0\n",
      "Standard Deviation (%)  59.3  0.0\n"
     ]
    }
   ],
   "source": [
    "annualized_variance= np.sqrt(btc_ret.var(ddof=1) * 365)\n",
    "\n",
    "df = pd.DataFrame(index=['Mean (%)', 'Standard Deviation (%)'], columns=[\"BTC\", \"Rf\"])\n",
    "df.iloc[0, :] = np.asarray([np.round(annualized_return_log.mean(),3)*100, rf * 100])\n",
    "df.iloc[1, :] = np.asarray([np.round(annualized_variance[0], 3)*100, 0.0])\n",
    "print(df)"
   ]
  },
  {
   "cell_type": "markdown",
   "id": "044ca530",
   "metadata": {},
   "source": [
    "# Comment \n",
    "\n",
    "Bitcoint has high (expected) returns but high standard deviation.\n",
    "\n",
    "An investor that care not only about returns but also about risk (a risk-averse investors) would combine the two assets optimally based on:\n",
    "- Excess return of BTC on $R_f$\n",
    "- Risk of BTC returns $\\sigma_{BTC}$\n",
    "- Degree of risk aversion $\\gamma w$\n",
    "\n",
    "Let's consider the CARA portfolio problem\n",
    "\n",
    "$$ U(W) = \\frac{1- e^{-cW}}{c} $$\n",
    "\n",
    "Optimal portfolio is:\n",
    "\n",
    "$$ w^* =\\frac{\\mu_{BTC} - R_f}{c \\sigma^2_{BTC}} $$\n",
    "\n",
    "Consider $c=1$"
   ]
  },
  {
   "cell_type": "code",
   "execution_count": 57,
   "id": "75307ccd",
   "metadata": {},
   "outputs": [
    {
     "name": "stdout",
     "output_type": "stream",
     "text": [
      "Portfolio weights:  0.955 0.045\n"
     ]
    }
   ],
   "source": [
    "c = 1\n",
    "w = (annualized_return_log.mean() - 0.01) / (c * annualized_variance[0])\n",
    "\n",
    "print(\"Portfolio weights: \", np.round(w,3), np.round((1-w),3))"
   ]
  },
  {
   "cell_type": "markdown",
   "id": "ed5f2678",
   "metadata": {},
   "source": [
    "As soon as risk-aversion is considered some wealth is invested in the risk-free asset "
   ]
  },
  {
   "cell_type": "code",
   "execution_count": 63,
   "id": "f6fb3462",
   "metadata": {},
   "outputs": [
    {
     "data": {
      "image/png": "[encoded data removed]",
      "text/plain": [
       "<Figure size 640x480 with 1 Axes>"
      ]
     },
     "metadata": {},
     "output_type": "display_data"
    }
   ],
   "source": [
    "c = np.linspace(1, 10)\n",
    "\n",
    "w = [ (annualized_return_log.mean() - 0.01) / (ci * annualized_variance[0]) for ci in c]\n",
    "\n",
    "plt.plot(c, w)\n",
    "plt.xlabel(\"Risk-aversion\")\n",
    "plt.ylabel(r\"$w_{BTC}$\")\n",
    "plt.title(\"Weight on BTC as function of risk aversion\")\n",
    "plt.grid(True)\n",
    "plt.show()\n"
   ]
  }
 ],
 "metadata": {
  "kernelspec": {
   "display_name": "Python 3 (ipykernel)",
   "language": "python",
   "name": "python3"
  },
  "language_info": {
   "codemirror_mode": {
    "name": "ipython",
    "version": 3
   },
   "file_extension": ".py",
   "mimetype": "text/x-python",
   "name": "python",
   "nbconvert_exporter": "python",
   "pygments_lexer": "ipython3",
   "version": "3.9.13"
  }
 },
 "nbformat": 4,
 "nbformat_minor": 5
}
